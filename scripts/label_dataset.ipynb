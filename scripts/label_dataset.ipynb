{
 "cells": [
  {
   "cell_type": "markdown",
   "id": "4ac241dd",
   "metadata": {},
   "source": [
    "# Imports"
   ]
  },
  {
   "cell_type": "code",
   "execution_count": 43,
   "id": "680c7371",
   "metadata": {},
   "outputs": [
    {
     "name": "stdout",
     "output_type": "stream",
     "text": [
      "The autoreload extension is already loaded. To reload it, use:\n",
      "  %reload_ext autoreload\n"
     ]
    }
   ],
   "source": [
    "%load_ext autoreload\n",
    "%autoreload 2\n",
    "\n",
    "import sys\n",
    "import os\n",
    "\n",
    "sys.path.append('..')\n",
    "from backend.services.crawler import crawl_all_sources\n",
    "from backend.services.classifier import classify_article\n",
    "from backend.services.embeddings import embed_text\n",
    "from backend.db.models import Article, Filter\n",
    "from backend.db.crud import add_filter"
   ]
  },
  {
   "cell_type": "markdown",
   "id": "afc9e8b2",
   "metadata": {},
   "source": [
    "# Crawler\n",
    "Crawl latest articles from data sources defined in the database"
   ]
  },
  {
   "cell_type": "code",
   "execution_count": 17,
   "id": "1ba4d1a1",
   "metadata": {},
   "outputs": [
    {
     "name": "stdout",
     "output_type": "stream",
     "text": [
      "Found 30 articles to classify.\n"
     ]
    }
   ],
   "source": [
    "articles = crawl_all_sources()\n",
    "print(f\"Found {len(articles)} articles to classify.\")"
   ]
  },
  {
   "cell_type": "markdown",
   "id": "aa435516",
   "metadata": {},
   "source": [
    "# Classifier\n",
    "Classify articles extracted from crawling as relevant or irrelevant"
   ]
  },
  {
   "cell_type": "code",
   "execution_count": 33,
   "id": "6386471b",
   "metadata": {},
   "outputs": [],
   "source": [
    "results = []\n",
    "for article in articles:\n",
    "    result = classify_article(article)\n",
    "    complete_result = {\n",
    "        \"article\": article,\n",
    "        \"classification\": result\n",
    "    }\n",
    "    results.append(complete_result)"
   ]
  },
  {
   "cell_type": "code",
   "execution_count": 37,
   "id": "61d82e47",
   "metadata": {},
   "outputs": [
    {
     "name": "stdout",
     "output_type": "stream",
     "text": [
      "Found 11 relevant articles.\n"
     ]
    }
   ],
   "source": [
    "relevant_articles = [article for article in results if article['classification'].get('relevant')]\n",
    "print(f\"Found {len(relevant_articles)} relevant articles.\")"
   ]
  },
  {
   "cell_type": "code",
   "execution_count": 40,
   "id": "83601a54",
   "metadata": {},
   "outputs": [
    {
     "name": "stdout",
     "output_type": "stream",
     "text": [
      "Critical CitrixBleed 2 vulnerability has been under active exploit for weeks\n"
     ]
    }
   ],
   "source": [
    "# Example of relevant article\n",
    "print(relevant_articles[2]['article']['title'])"
   ]
  },
  {
   "cell_type": "markdown",
   "id": "3a98b302",
   "metadata": {},
   "source": [
    "# Embedding\n",
    "Embed article summary that will be used as filter and upload to database"
   ]
  },
  {
   "cell_type": "code",
   "execution_count": null,
   "id": "9af35f88",
   "metadata": {},
   "outputs": [],
   "source": [
    "for article in results:\n",
    "    # Build object\n",
    "    relevant = article['classification'].get('relevant', False)\n",
    "    embedding = embed_text(article['classification']['summary'])\n",
    "    \n",
    "    filter_obj = Filter(\n",
    "        url=article['article']['id'],\n",
    "        embedding=embedding,\n",
    "        relevant=relevant\n",
    "    )\n",
    "    \n",
    "    # Upload to database\n",
    "    add_filter(filter_obj)\n"
   ]
  }
 ],
 "metadata": {
  "kernelspec": {
   "display_name": ".venv",
   "language": "python",
   "name": "python3"
  },
  "language_info": {
   "codemirror_mode": {
    "name": "ipython",
    "version": 3
   },
   "file_extension": ".py",
   "mimetype": "text/x-python",
   "name": "python",
   "nbconvert_exporter": "python",
   "pygments_lexer": "ipython3",
   "version": "3.13.5"
  }
 },
 "nbformat": 4,
 "nbformat_minor": 5
}
